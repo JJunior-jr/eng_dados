{
 "cells": [
  {
   "cell_type": "code",
   "execution_count": 1,
   "metadata": {},
   "outputs": [],
   "source": [
    "#MENU\n",
    "menu = \"\"\"\n",
    "[d] Depositar\n",
    "[s] Sacar\n",
    "[e] extrato\n",
    "[q] Sair\n",
    "\n",
    "=> \"\"\"\n"
   ]
  },
  {
   "cell_type": "code",
   "execution_count": 2,
   "metadata": {},
   "outputs": [],
   "source": [
    "#VARIÁVEIS E CONSTANTES\n",
    "\n",
    "\n",
    "saldo = 0\n",
    "limite = 500\n",
    "extrato = \"\"\n",
    "numero_saques = 0\n",
    "LIMITE_SAQUES = 3"
   ]
  },
  {
   "cell_type": "code",
   "execution_count": null,
   "metadata": {},
   "outputs": [],
   "source": [
    "# BLOCO LÓGICO\n",
    "\n",
    "while True:\n",
    "\n",
    "    opcao = input(menu)\n",
    "\n",
    "    if opcao == \"d\": # Aqui é a condicional para a escolha do usuário de acordo com o menu\n",
    "        valor = float(input(\"Informe o valor do depósito: \"))\n",
    "\n",
    "        if valor > 0: # Aqui faço a primeira validação para evitar depositos de numeros negativos \n",
    "            saldo += valor # aqui adciona o valor no saldo de conta \n",
    "            extrato += f\"Depósito: R$ {valor:.2f}\\n\" # concatena o valor depositado e atrinue a variável extrato\n",
    "\n",
    "        else:\n",
    "            print(\"Operaçõa falhou! O valor informado é inválido.\") # aqui caso o valor seja menor que 0 e/ ou invalido, vem essa msg\n",
    " \n",
    "    elif opcao == \"s\":\n",
    "\n",
    "        valor = float(input(\"Informe o valor do saque: \"))\n",
    "\n",
    "        excedeu_saldo = valor > saldo\n",
    "\n",
    "        excedeu_limite = valor > limite\n",
    "\n",
    "        excedeu_saques = numero_saques >= LIMITE_SAQUES\n",
    "\n",
    "        if excedeu_saldo:\n",
    "            print(\"Operação falhou! Você não tem saldo suficiente. \")\n",
    "\n",
    "        elif excedeu_limite:\n",
    "            print(\"Operação falhou! O valor do sawue excede o limite. \")\n",
    "\n",
    "        elif excedeu_saques:\n",
    "            print(\"Operação falhou! Número máximo de saques excedido. \")\n",
    "\n",
    "        elif valor > 0:\n",
    "            saldo -= valor \n",
    "            extrato += f\"Saque; R$ {valor:.2f}\\n\"\n",
    "            numero_saques += 1     \n",
    "\n",
    "        else:\n",
    "            print(\"Operação falhou! O valor informado é inválido. \")\n",
    "\n",
    "\n",
    "    elif opcao == \"e\":\n",
    "\n",
    "        print(\"\\n==================EXTRATO==================\")\n",
    "        print(\"Não foram realizadas movimentações.\" if not extrato else extrato)\n",
    "        print(f\"\\n Saldo: R$ {saldo:.2f}\")\n",
    "        print(\"===========================================\")\n",
    "\n",
    "    elif opcao == \"q\":\n",
    "        print(\"Obrigado volte sempre!\")\n",
    "        break\n",
    "\n",
    "    else:\n",
    "        print(\"Operação inválida, por favor selecione novamente a operação desejada.\")    \n"
   ]
  }
 ],
 "metadata": {
  "kernelspec": {
   "display_name": "base",
   "language": "python",
   "name": "python3"
  },
  "language_info": {
   "codemirror_mode": {
    "name": "ipython",
    "version": 3
   },
   "file_extension": ".py",
   "mimetype": "text/x-python",
   "name": "python",
   "nbconvert_exporter": "python",
   "pygments_lexer": "ipython3",
   "version": "3.11.4"
  }
 },
 "nbformat": 4,
 "nbformat_minor": 2
}
